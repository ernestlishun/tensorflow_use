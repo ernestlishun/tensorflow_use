{
 "cells": [
  {
   "cell_type": "code",
   "execution_count": 1,
   "metadata": {},
   "outputs": [
    {
     "name": "stdout",
     "output_type": "stream",
     "text": [
      "Package            Version  \r\n",
      "------------------ ---------\r\n",
      "appnope            0.1.0    \r\n",
      "backcall           0.1.0    \r\n",
      "bleach             2.1.3    \r\n",
      "certifi            2018.4.16\r\n",
      "decorator          4.3.0    \r\n",
      "entrypoints        0.2.3    \r\n",
      "html5lib           1.0.1    \r\n",
      "ipykernel          4.8.2    \r\n",
      "ipython            6.4.0    \r\n",
      "ipython-genutils   0.2.0    \r\n",
      "ipywidgets         7.2.1    \r\n",
      "jedi               0.12.0   \r\n",
      "Jinja2             2.10     \r\n",
      "jsonschema         2.6.0    \r\n",
      "jupyter            1.0.0    \r\n",
      "jupyter-client     5.2.3    \r\n",
      "jupyter-console    5.2.0    \r\n",
      "jupyter-core       4.4.0    \r\n",
      "MarkupSafe         1.0      \r\n",
      "mistune            0.8.3    \r\n",
      "nbconvert          5.3.1    \r\n",
      "nbformat           4.4.0    \r\n",
      "notebook           5.5.0    \r\n",
      "numpy              1.12.1   \r\n",
      "pandocfilters      1.4.2    \r\n",
      "parso              0.2.1    \r\n",
      "pexpect            4.6.0    \r\n",
      "pickleshare        0.7.4    \r\n",
      "pip                10.0.1   \r\n",
      "prompt-toolkit     1.0.15   \r\n",
      "protobuf           3.5.2    \r\n",
      "ptyprocess         0.6.0    \r\n",
      "Pygments           2.2.0    \r\n",
      "python-dateutil    2.7.3    \r\n",
      "pyzmq              17.0.0   \r\n",
      "qtconsole          4.3.1    \r\n",
      "Send2Trash         1.5.0    \r\n",
      "setuptools         39.2.0   \r\n",
      "simplegeneric      0.8.1    \r\n",
      "six                1.11.0   \r\n",
      "tensorflow         1.1.0    \r\n",
      "terminado          0.8.1    \r\n",
      "testpath           0.3.1    \r\n",
      "tornado            5.0.2    \r\n",
      "traitlets          4.3.2    \r\n",
      "wcwidth            0.1.7    \r\n",
      "webencodings       0.5.1    \r\n",
      "Werkzeug           0.14.1   \r\n",
      "wheel              0.31.1   \r\n",
      "widgetsnbextension 3.2.1    \r\n"
     ]
    }
   ],
   "source": [
    "! pip list"
   ]
  },
  {
   "cell_type": "code",
   "execution_count": 2,
   "metadata": {},
   "outputs": [],
   "source": [
    "import tensorflow as tf"
   ]
  },
  {
   "cell_type": "code",
   "execution_count": null,
   "metadata": {},
   "outputs": [],
   "source": []
  }
 ],
 "metadata": {
  "kernelspec": {
   "display_name": "Python 3",
   "language": "python",
   "name": "python3"
  },
  "language_info": {
   "codemirror_mode": {
    "name": "ipython",
    "version": 3
   },
   "file_extension": ".py",
   "mimetype": "text/x-python",
   "name": "python",
   "nbconvert_exporter": "python",
   "pygments_lexer": "ipython3",
   "version": "3.6.6"
  }
 },
 "nbformat": 4,
 "nbformat_minor": 2
}
